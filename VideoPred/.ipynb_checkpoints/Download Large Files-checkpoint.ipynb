{
 "cells": [
  {
   "cell_type": "markdown",
   "id": "d2463e53",
   "metadata": {},
   "source": [
    "# To download the Dataset"
   ]
  },
  {
   "cell_type": "code",
   "execution_count": 1,
   "id": "30421599",
   "metadata": {},
   "outputs": [
    {
     "name": "stdout",
     "output_type": "stream",
     "text": [
      "Downloading...\n",
      "From (uriginal): https://drive.google.com/uc?id=1lAVpP8XD02ZVwXQ39P0XrUt5touzUsy0\n",
      "From (redirected): https://drive.google.com/uc?id=1lAVpP8XD02ZVwXQ39P0XrUt5touzUsy0&confirm=t&uuid=c6665ce9-1f41-4b44-8326-2533be2c8194\n",
      "To: /workspace/video_prediction/Dataset_Student_V2.zip\n",
      "100%|██████████████████████████████████████| 9.98G/9.98G [02:10<00:00, 76.3MB/s]\n"
     ]
    }
   ],
   "source": [
    "!gdown https://drive.google.com/uc?id=1lAVpP8XD02ZVwXQ39P0XrUt5touzUsy0"
   ]
  },
  {
   "cell_type": "code",
   "execution_count": null,
   "id": "78de1acc",
   "metadata": {},
   "outputs": [],
   "source": [
    "!unzip Dataset_Student_V2.zip"
   ]
  },
  {
   "cell_type": "markdown",
   "id": "f3eeccb6",
   "metadata": {},
   "source": [
    "# Download Saved Result .pth files"
   ]
  },
  {
   "cell_type": "code",
   "execution_count": 2,
   "id": "9c5bf25d",
   "metadata": {},
   "outputs": [
    {
     "name": "stdout",
     "output_type": "stream",
     "text": [
      "Downloading...\n",
      "From (uriginal): https://drive.google.com/uc?id=17HWZv-q8ofFXWODM4Io1N-m7JNadFiVW\n",
      "From (redirected): https://drive.google.com/uc?id=17HWZv-q8ofFXWODM4Io1N-m7JNadFiVW&confirm=t&uuid=57eb1354-5194-4ff2-a875-4cf02a069f00\n",
      "To: /workspace/video_prediction/results (1).zip\n",
      " 14%|█████▌                                  | 126M/901M [00:02<00:18, 42.7MB/s]^C\n",
      "Traceback (most recent call last):\n",
      "  File \"/opt/conda/bin/gdown\", line 8, in <module>\n",
      "    sys.exit(main())\n",
      "  File \"/opt/conda/lib/python3.10/site-packages/gdown/cli.py\", line 156, in main\n",
      "    filename = download(\n",
      "  File \"/opt/conda/lib/python3.10/site-packages/gdown/download.py\", line 334, in download\n",
      "    for chunk in res.iter_content(chunk_size=CHUNK_SIZE):\n",
      "  File \"/opt/conda/lib/python3.10/site-packages/requests/models.py\", line 816, in generate\n",
      "    yield from self.raw.stream(chunk_size, decode_content=True)\n",
      "  File \"/opt/conda/lib/python3.10/site-packages/urllib3/response.py\", line 628, in stream\n",
      "    data = self.read(amt=amt, decode_content=decode_content)\n",
      "  File \"/opt/conda/lib/python3.10/site-packages/urllib3/response.py\", line 567, in read\n",
      "    data = self._fp_read(amt) if not fp_closed else b\"\"\n",
      "  File \"/opt/conda/lib/python3.10/site-packages/urllib3/response.py\", line 533, in _fp_read\n",
      "    return self._fp.read(amt) if amt is not None else self._fp.read()\n",
      "  File \"/opt/conda/lib/python3.10/http/client.py\", line 465, in read\n",
      "    s = self.fp.read(amt)\n",
      "  File \"/opt/conda/lib/python3.10/socket.py\", line 705, in readinto\n",
      "    return self._sock.recv_into(b)\n",
      "  File \"/opt/conda/lib/python3.10/ssl.py\", line 1274, in recv_into\n",
      "    return self.read(nbytes, buffer)\n",
      "  File \"/opt/conda/lib/python3.10/ssl.py\", line 1130, in read\n",
      "    return self._sslobj.read(len, buffer)\n",
      "KeyboardInterrupt\n",
      " 15%|█████▊                                  | 131M/901M [00:03<00:17, 43.1MB/s]\n"
     ]
    }
   ],
   "source": [
    "!gdown 17HWZv-q8ofFXWODM4Io1N-m7JNadFiVW"
   ]
  },
  {
   "cell_type": "markdown",
   "id": "01bd7b49",
   "metadata": {},
   "source": [
    "# Best Checkpoint"
   ]
  },
  {
   "cell_type": "code",
   "execution_count": 4,
   "id": "bb291dec",
   "metadata": {},
   "outputs": [
    {
     "name": "stdout",
     "output_type": "stream",
     "text": [
      "Downloading...\n",
      "From (uriginal): https://drive.google.com/uc?id=1mYRBBfB0Cjc4jRsM21AX8nxpG_rs252q\n",
      "From (redirected): https://drive.google.com/uc?id=1mYRBBfB0Cjc4jRsM21AX8nxpG_rs252q&confirm=t&uuid=ca29dc13-3335-494c-9465-42b623545542\n",
      "To: /workspace/video_prediction/checkpoint.pth\n",
      "100%|████████████████████████████████████████| 194M/194M [00:02<00:00, 76.8MB/s]\n"
     ]
    }
   ],
   "source": [
    "!gdown 1mYRBBfB0Cjc4jRsM21AX8nxpG_rs252q"
   ]
  },
  {
   "cell_type": "markdown",
   "id": "175952d5",
   "metadata": {},
   "source": [
    "# Remove Corrupted folders"
   ]
  },
  {
   "cell_type": "code",
   "execution_count": 6,
   "id": "0b6304bd",
   "metadata": {},
   "outputs": [],
   "source": [
    "!rm -rf ./Dataset_Student/unlabeled/video_13268\n",
    "!rm -rf ./Dataset_Student/unlabeled/video_13534\n",
    "!rm -rf ./Dataset_Student/unlabeled/video_13688\n",
    "!rm -rf ./Dataset_Student/unlabeled/video_14125"
   ]
  },
  {
   "cell_type": "markdown",
   "id": "a3e0d967",
   "metadata": {},
   "source": [
    "# Build SimVP"
   ]
  },
  {
   "cell_type": "code",
   "execution_count": null,
   "id": "34605a08",
   "metadata": {},
   "outputs": [],
   "source": [
    "!python setup.py develop"
   ]
  },
  {
   "cell_type": "markdown",
   "id": "d34d52a9",
   "metadata": {},
   "source": [
    "# Build npy files for input dataset (for faster loading)"
   ]
  },
  {
   "cell_type": "code",
   "execution_count": 7,
   "id": "28ab07db",
   "metadata": {},
   "outputs": [
    {
     "data": {
      "text/plain": [
       "(22, 160, 240)"
      ]
     },
     "execution_count": 7,
     "metadata": {},
     "output_type": "execute_result"
    }
   ],
   "source": [
    "import numpy as np\n",
    "np_file = np.load(\"./Dataset_Student/train/video_0/mask.npy\")\n",
    "np_file.shape"
   ]
  },
  {
   "cell_type": "code",
   "execution_count": 8,
   "id": "c68c3ab4",
   "metadata": {},
   "outputs": [
    {
     "name": "stdout",
     "output_type": "stream",
     "text": [
      "329912\n"
     ]
    }
   ],
   "source": [
    "from PIL import Image\n",
    "import glob\n",
    "\n",
    "all_images = glob.glob(\"./Dataset_Student/*/*/*.png\")\n",
    "print(len(all_images))"
   ]
  },
  {
   "cell_type": "code",
   "execution_count": 9,
   "id": "020755b6",
   "metadata": {},
   "outputs": [],
   "source": [
    "import numpy as np\n",
    "import os\n",
    "from PIL import Image\n",
    "\n",
    "# Assuming you have the path to the two folders in folder1_path and folder2_path\n",
    "folder1_path = \"./Dataset_Student/train\"\n",
    "folder2_path = \"./Dataset_Student/unlabeled\"\n",
    "\n",
    "folders = [folder1_path, folder2_path]\n",
    "all_subfolders = []\n",
    "\n",
    "# Iterate over the two folders and collect all the subfolders\n",
    "for folder in folders:\n",
    "    for subdir in os.listdir(folder):\n",
    "        subdir_path = os.path.join(folder, subdir)\n",
    "        if os.path.isdir(subdir_path):\n",
    "            all_subfolders.append(subdir_path)\n",
    "\n",
    "# Initialize the npy array of the required size\n",
    "num_subfolders = len(all_subfolders)\n",
    "npy_array = np.zeros((22, num_subfolders, 160, 240, 3), dtype=np.uint8)\n",
    "\n",
    "# Iterate over the subfolders and fill the npy_array with image data\n",
    "for idx, subfolder in enumerate(all_subfolders):\n",
    "    images = [file for file in os.listdir(subfolder) if file.endswith(('.jpg', '.jpeg', '.png'))]\n",
    "    for img_idx, img_file in enumerate((images)[:22]):\n",
    "        img_path = os.path.join(subfolder, img_file)\n",
    "        img = Image.open(img_path)\n",
    "        img_resized = img.resize((240, 160))\n",
    "        npy_array[img_idx, idx] = np.array(img_resized)\n",
    "\n",
    "# Save the npy_array to a .npy file\n",
    "np.save('train_dataset.npy', npy_array)"
   ]
  },
  {
   "cell_type": "code",
   "execution_count": 10,
   "id": "87a01016",
   "metadata": {},
   "outputs": [
    {
     "name": "stdout",
     "output_type": "stream",
     "text": [
      "(22, 13996, 160, 240, 3)\n"
     ]
    }
   ],
   "source": [
    "print(npy_array.shape)"
   ]
  },
  {
   "cell_type": "code",
   "execution_count": 11,
   "id": "9104f882",
   "metadata": {},
   "outputs": [],
   "source": [
    "import numpy as np\n",
    "import os\n",
    "from PIL import Image\n",
    "\n",
    "# Assuming you have the path to the main folder in main_folder_path\n",
    "main_folder_path = \"./Dataset_Student/val\"\n",
    "\n",
    "all_subfolders = []\n",
    "\n",
    "# Iterate over the main folder and collect all the subfolders\n",
    "for subdir in os.listdir(main_folder_path):\n",
    "    subdir_path = os.path.join(main_folder_path, subdir)\n",
    "    if os.path.isdir(subdir_path):\n",
    "        all_subfolders.append(subdir_path)\n",
    "\n",
    "# Initialize the npy array of the required size\n",
    "num_subfolders = len(all_subfolders)\n",
    "npy_array = np.zeros((22, num_subfolders, 160, 240, 3), dtype=np.uint8)\n",
    "\n",
    "# Iterate over the subfolders and fill the npy_array with image data\n",
    "for idx, subfolder in enumerate(all_subfolders):\n",
    "    images = [file for file in os.listdir(subfolder) if file.endswith(('.jpg', '.jpeg', '.png'))]\n",
    "    for img_idx, img_file in enumerate((images)[:22]):\n",
    "        img_path = os.path.join(subfolder, img_file)\n",
    "        img = Image.open(img_path)\n",
    "        img_resized = img.resize((240, 160))\n",
    "        npy_array[img_idx, idx] = np.array(img_resized)\n",
    "\n",
    "# Save the npy_array to a .npy file\n",
    "np.save('test_dataset.npy', npy_array)"
   ]
  },
  {
   "cell_type": "code",
   "execution_count": 12,
   "id": "0346ac09",
   "metadata": {},
   "outputs": [
    {
     "name": "stdout",
     "output_type": "stream",
     "text": [
      "(22, 1000, 160, 240, 3)\n"
     ]
    }
   ],
   "source": [
    "print(npy_array.shape)"
   ]
  },
  {
   "cell_type": "code",
   "execution_count": null,
   "id": "b2deffa6",
   "metadata": {},
   "outputs": [],
   "source": []
  }
 ],
 "metadata": {
  "kernelspec": {
   "display_name": "Python 3 (ipykernel)",
   "language": "python",
   "name": "python3"
  },
  "language_info": {
   "codemirror_mode": {
    "name": "ipython",
    "version": 3
   },
   "file_extension": ".py",
   "mimetype": "text/x-python",
   "name": "python",
   "nbconvert_exporter": "python",
   "pygments_lexer": "ipython3",
   "version": "3.10.8"
  }
 },
 "nbformat": 4,
 "nbformat_minor": 5
}
